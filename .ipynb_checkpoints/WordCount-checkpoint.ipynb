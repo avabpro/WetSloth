{
 "cells": [
  {
   "cell_type": "code",
   "execution_count": 1,
   "metadata": {},
   "outputs": [
    {
     "ename": "FileNotFoundError",
     "evalue": "[Errno 2] No such file or directory: 'C:/Users/Deepti/Washu BootCamp - HW/Project 1/Pract/Song for testing.txt'",
     "output_type": "error",
     "traceback": [
      "\u001b[1;31m---------------------------------------------------------------------------\u001b[0m",
      "\u001b[1;31mFileNotFoundError\u001b[0m                         Traceback (most recent call last)",
      "\u001b[1;32m<ipython-input-1-4fc3851f0096>\u001b[0m in \u001b[0;36m<module>\u001b[1;34m()\u001b[0m\n\u001b[0;32m      2\u001b[0m \u001b[1;33m\u001b[0m\u001b[0m\n\u001b[0;32m      3\u001b[0m \u001b[0mmyNames\u001b[0m \u001b[1;33m=\u001b[0m \u001b[1;33m[\u001b[0m\u001b[1;33m]\u001b[0m\u001b[1;33m\u001b[0m\u001b[0m\n\u001b[1;32m----> 4\u001b[1;33m \u001b[1;32mwith\u001b[0m \u001b[0mopen\u001b[0m\u001b[1;33m(\u001b[0m\u001b[1;34m\"C:/Users/Deepti/Washu BootCamp - HW/Project 1/Pract/Song for testing.txt\"\u001b[0m\u001b[1;33m,\u001b[0m \u001b[1;34m'r'\u001b[0m\u001b[1;33m)\u001b[0m \u001b[1;32mas\u001b[0m \u001b[0mf\u001b[0m\u001b[1;33m:\u001b[0m\u001b[1;33m\u001b[0m\u001b[0m\n\u001b[0m\u001b[0;32m      5\u001b[0m      \u001b[0mmyNames\u001b[0m \u001b[1;33m=\u001b[0m \u001b[1;33m[\u001b[0m\u001b[0mline\u001b[0m\u001b[1;33m.\u001b[0m\u001b[0mstrip\u001b[0m\u001b[1;33m(\u001b[0m\u001b[1;33m)\u001b[0m \u001b[1;32mfor\u001b[0m \u001b[0mline\u001b[0m \u001b[1;32min\u001b[0m \u001b[0mf\u001b[0m\u001b[1;33m]\u001b[0m\u001b[1;33m\u001b[0m\u001b[0m\n\u001b[0;32m      6\u001b[0m      \u001b[1;31m#print(myNames)\u001b[0m\u001b[1;33m\u001b[0m\u001b[1;33m\u001b[0m\u001b[0m\n",
      "\u001b[1;31mFileNotFoundError\u001b[0m: [Errno 2] No such file or directory: 'C:/Users/Deepti/Washu BootCamp - HW/Project 1/Pract/Song for testing.txt'"
     ]
    }
   ],
   "source": [
    "from collections import Counter, OrderedDict\n",
    "\n",
    "myNames = []\n",
    "with open(\"C:/Users/Deepti/Washu BootCamp - HW/Project 1/Pract/Song for testing.txt\", 'r') as f:\n",
    "     myNames = [line.strip() for line in f]\n",
    "     #print(myNames)\n",
    "    \n",
    "# counter = Counter(myNames)\n",
    "# #print(counter)\n",
    "# uniques = [value for value, count in counter.items() if count == 1]\n",
    "# print(uniques)\n",
    "\n",
    "\n",
    "count = {}\n",
    "for w in open(\"C:/Users/Deepti/Washu BootCamp - HW/Project 1/Pract/Song for testing.txt\").read().split():\n",
    "    if w in count:\n",
    "        count[w] += 1\n",
    "    else:\n",
    "        count[w] = 1\n",
    "for word, times in count.items():\n",
    "    print(word, times)\n",
    "\n",
    "    \n",
    "# class OrderedCounter(Counter, OrderedDict):\n",
    "#     pass\n",
    "\n",
    "# c = OrderedCounter(myNames)\n",
    "\n",
    "# print(\"There are {} unique words\".format(len(c)))\n",
    "# print('They are')\n",
    "\n",
    "# for k, v in c.items():\n",
    "#     print(k)\n",
    "#     print(v)\n",
    "   "
   ]
  },
  {
   "cell_type": "code",
   "execution_count": null,
   "metadata": {},
   "outputs": [],
   "source": []
  }
 ],
 "metadata": {
  "kernelspec": {
   "display_name": "Python 3",
   "language": "python",
   "name": "python3"
  },
  "language_info": {
   "codemirror_mode": {
    "name": "ipython",
    "version": 3
   },
   "file_extension": ".py",
   "mimetype": "text/x-python",
   "name": "python",
   "nbconvert_exporter": "python",
   "pygments_lexer": "ipython3",
   "version": "3.6.5"
  }
 },
 "nbformat": 4,
 "nbformat_minor": 2
}
