{
 "cells": [
  {
   "cell_type": "code",
   "execution_count": 1,
   "metadata": {},
   "outputs": [],
   "source": [
    "import pandas as pd\n",
    "from matplotlib import pyplot as plt\n",
    "filename = \"C:/Users/proko/OneDrive/Desktop/WetSloth/abc.csv\" "
   ]
  },
  {
   "cell_type": "code",
   "execution_count": 2,
   "metadata": {},
   "outputs": [
    {
     "data": {
      "text/html": [
       "<div>\n",
       "<style scoped>\n",
       "    .dataframe tbody tr th:only-of-type {\n",
       "        vertical-align: middle;\n",
       "    }\n",
       "\n",
       "    .dataframe tbody tr th {\n",
       "        vertical-align: top;\n",
       "    }\n",
       "\n",
       "    .dataframe thead th {\n",
       "        text-align: right;\n",
       "    }\n",
       "</style>\n",
       "<table border=\"1\" class=\"dataframe\">\n",
       "  <thead>\n",
       "    <tr style=\"text-align: right;\">\n",
       "      <th></th>\n",
       "      <th>Ranking</th>\n",
       "      <th>Artist</th>\n",
       "      <th>Song Title</th>\n",
       "      <th>Year</th>\n",
       "      <th>Group / Solos</th>\n",
       "      <th>Unnamed: 5</th>\n",
       "    </tr>\n",
       "  </thead>\n",
       "  <tbody>\n",
       "    <tr>\n",
       "      <th>0</th>\n",
       "      <td>1</td>\n",
       "      <td>Percy Faith</td>\n",
       "      <td>Theme From 'A Summer Place'</td>\n",
       "      <td>1960</td>\n",
       "      <td>Solo</td>\n",
       "      <td>NaN</td>\n",
       "    </tr>\n",
       "    <tr>\n",
       "      <th>1</th>\n",
       "      <td>2</td>\n",
       "      <td>Jim Reeves</td>\n",
       "      <td>He'll Have To Go</td>\n",
       "      <td>1960</td>\n",
       "      <td>Solo</td>\n",
       "      <td>NaN</td>\n",
       "    </tr>\n",
       "    <tr>\n",
       "      <th>2</th>\n",
       "      <td>3</td>\n",
       "      <td>Everly Brothers</td>\n",
       "      <td>Cathy's Clown</td>\n",
       "      <td>1960</td>\n",
       "      <td>Group</td>\n",
       "      <td>NaN</td>\n",
       "    </tr>\n",
       "    <tr>\n",
       "      <th>3</th>\n",
       "      <td>4</td>\n",
       "      <td>Johnny Preston</td>\n",
       "      <td>Running Bear</td>\n",
       "      <td>1960</td>\n",
       "      <td>Solo</td>\n",
       "      <td>NaN</td>\n",
       "    </tr>\n",
       "    <tr>\n",
       "      <th>4</th>\n",
       "      <td>5</td>\n",
       "      <td>Mark Dinning</td>\n",
       "      <td>Teen Angel</td>\n",
       "      <td>1960</td>\n",
       "      <td>Solo</td>\n",
       "      <td>NaN</td>\n",
       "    </tr>\n",
       "  </tbody>\n",
       "</table>\n",
       "</div>"
      ],
      "text/plain": [
       "   Ranking           Artist                   Song Title  Year Group / Solos  \\\n",
       "0        1      Percy Faith  Theme From 'A Summer Place'  1960          Solo   \n",
       "1        2       Jim Reeves             He'll Have To Go  1960          Solo   \n",
       "2        3  Everly Brothers                Cathy's Clown  1960         Group   \n",
       "3        4   Johnny Preston                 Running Bear  1960          Solo   \n",
       "4        5     Mark Dinning                   Teen Angel  1960          Solo   \n",
       "\n",
       "   Unnamed: 5  \n",
       "0         NaN  \n",
       "1         NaN  \n",
       "2         NaN  \n",
       "3         NaN  \n",
       "4         NaN  "
      ]
     },
     "execution_count": 2,
     "metadata": {},
     "output_type": "execute_result"
    }
   ],
   "source": [
    "data = pd.read_csv(\"C:/Users/proko/OneDrive/Desktop/ABC_Final_Top_10_Hits.csv\", error_bad_lines=False)\n",
    "data.head()"
   ]
  },
  {
   "cell_type": "code",
   "execution_count": 3,
   "metadata": {},
   "outputs": [
    {
     "data": {
      "text/plain": [
       "434                            3 Doors Down\n",
       "430                                 50 Cent\n",
       "457                    50 Cent feat. Olivia\n",
       "188                        A Taste Of Honey\n",
       "259                                    A-Ha\n",
       "437                                 Aaliyah\n",
       "340                             Ace Of Base\n",
       "348                             Ace Of Base\n",
       "349                             Ace Of Base\n",
       "556                                   Adele\n",
       "500                                   Adele\n",
       "477                                    Akon\n",
       "178                              Alan O'Day\n",
       "442                             Alicia Keys\n",
       "411                             Alicia Keys\n",
       "482                             Alicia Keys\n",
       "341                               All-4-One\n",
       "319                               Amy Grant\n",
       "187                               Andy Gibb\n",
       "180                               Andy Gibb\n",
       "171                               Andy Gibb\n",
       "299                             Anita Baker\n",
       "198                              Anita Ward\n",
       "89               Archie Bell and The Drells\n",
       "90                                  Archies\n",
       "538                           Ariana Grande\n",
       "421                                 Ashanti\n",
       "61                              Association\n",
       "73                              Association\n",
       "103                             B.J. Thomas\n",
       "                       ...                 \n",
       "404                        Vertical Horizon\n",
       "197                          Village People\n",
       "38                         Village Stompers\n",
       "545                           Walk The Moon\n",
       "169    Walter Murphy and The Big Apple Band\n",
       "129                            Wayne Newton\n",
       "53                                  We Five\n",
       "549                                  Weeknd\n",
       "548                                  Weeknd\n",
       "252                                   Wham!\n",
       "250                                   Wham!\n",
       "276                              Whitesnake\n",
       "273                         Whitney Houston\n",
       "285                         Whitney Houston\n",
       "265                         Whitney Houston\n",
       "393                         Whitney Houston\n",
       "330                         Whitney Houston\n",
       "164                             Wild Cherry\n",
       "298                           Will To Power\n",
       "300                         Wilson Phillips\n",
       "160                                   Wings\n",
       "542                             Wiz Khalifa\n",
       "338                         Wreckx-N-Effect\n",
       "247                                     Yes\n",
       "78                            Young Rascals\n",
       "512                                   fun. \n",
       "408                         matchbox twenty\n",
       "415                         matchbox twenty\n",
       "435                         matchbox twenty\n",
       "554                       twenty one pilots\n",
       "Name: Artist, Length: 570, dtype: object"
      ]
     },
     "execution_count": 3,
     "metadata": {},
     "output_type": "execute_result"
    }
   ],
   "source": [
    "# sort artists alphabetically \n",
    "artist_list = data.Artist\n",
    "artist_list.sort_values(ascending=True)"
   ]
  },
  {
   "cell_type": "code",
   "execution_count": 4,
   "metadata": {},
   "outputs": [
    {
     "name": "stdout",
     "output_type": "stream",
     "text": [
      "558\n"
     ]
    }
   ],
   "source": [
    "# create counter to check how many artists appear more than once in the list\n",
    "# count as a repeat if it matches the previous line\n",
    "# but IGNORE it if it also matches the next line (aka only count the repeat once)\n",
    "\n",
    "num_artists = 0\n",
    "temp = \"\"\n",
    "for i in artist_list:\n",
    "    if i != temp:\n",
    "        num_artists += 1\n",
    "        temp = i\n",
    "#     print(i)\n",
    "print(num_artists)\n",
    "unique_artists = data.Artist.unique()\n",
    "percent = unique_artists.size / num_artists"
   ]
  },
  {
   "cell_type": "code",
   "execution_count": 5,
   "metadata": {},
   "outputs": [
    {
     "data": {
      "text/plain": [
       "0.7885304659498208"
      ]
     },
     "execution_count": 5,
     "metadata": {},
     "output_type": "execute_result"
    }
   ],
   "source": [
    "percent"
   ]
  },
  {
   "cell_type": "code",
   "execution_count": 6,
   "metadata": {},
   "outputs": [],
   "source": [
    "# create a pie chart to compare \"One-Hit-Wonders\" and \"Repeat Artists\"\n",
    "\n",
    "labels = [\"One Hit Wonders\", \"Repeat Artists\"]\n",
    "sizes = [num_artists - unique_artists.size, unique_artists.size]\n",
    "colors = [\"lightskyblue\", \"red\"]\n",
    "explode = (0.1, 0)"
   ]
  },
  {
   "cell_type": "code",
   "execution_count": 8,
   "metadata": {
    "scrolled": true
   },
   "outputs": [
    {
     "data": {
      "image/png": "[encoded data removed]",
      "text/plain": [
       "<Figure size 432x432 with 1 Axes>"
      ]
     },
     "metadata": {},
     "output_type": "display_data"
    }
   ],
   "source": [
    "plt.axis(\"equal\")\n",
    "fig = plt.gcf()\n",
    "fig.set_size_inches(6,6)\n",
    "plt.pie(sizes, explode=explode, labels=labels, colors=colors,\n",
    "        autopct=\"%1.1f%%\", shadow=True, startangle=140)\n",
    "plt.show()"
   ]
  },
  {
   "cell_type": "code",
   "execution_count": null,
   "metadata": {},
   "outputs": [],
   "source": []
  }
 ],
 "metadata": {
  "kernelspec": {
   "display_name": "Python 3",
   "language": "python",
   "name": "python3"
  },
  "language_info": {
   "codemirror_mode": {
    "name": "ipython",
    "version": 3
   },
   "file_extension": ".py",
   "mimetype": "text/x-python",
   "name": "python",
   "nbconvert_exporter": "python",
   "pygments_lexer": "ipython3",
   "version": "3.6.5"
  }
 },
 "nbformat": 4,
 "nbformat_minor": 2
}
