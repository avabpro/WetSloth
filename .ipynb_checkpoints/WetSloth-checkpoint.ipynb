{
 "cells": [
  {
   "cell_type": "code",
   "execution_count": 99,
   "metadata": {},
   "outputs": [],
   "source": [
    "import pandas as pd\n",
    "import numpy as np\n",
    "import requests\n",
    "import time\n",
    "from config import api_key\n",
    "import json\n",
    "import os\n",
    "import csv\n",
    "import xlrd\n",
    "\n"
   ]
  },
  {
   "cell_type": "code",
   "execution_count": 100,
   "metadata": {
    "scrolled": true
   },
   "outputs": [
    {
     "data": {
      "text/html": [
       "<div>\n",
       "<style scoped>\n",
       "    .dataframe tbody tr th:only-of-type {\n",
       "        vertical-align: middle;\n",
       "    }\n",
       "\n",
       "    .dataframe tbody tr th {\n",
       "        vertical-align: top;\n",
       "    }\n",
       "\n",
       "    .dataframe thead th {\n",
       "        text-align: right;\n",
       "    }\n",
       "</style>\n",
       "<table border=\"1\" class=\"dataframe\">\n",
       "  <thead>\n",
       "    <tr style=\"text-align: right;\">\n",
       "      <th></th>\n",
       "      <th>Artist/</th>\n",
       "      <th>Artist</th>\n",
       "      <th>Song Title</th>\n",
       "      <th>Group / Solo Artists</th>\n",
       "      <th>Year</th>\n",
       "      <th>Ranking</th>\n",
       "      <th>Hits by Artist Since 1960</th>\n",
       "      <th>One Hit Wonder?</th>\n",
       "      <th>Uniqueness/Variety of Lyrics</th>\n",
       "    </tr>\n",
       "  </thead>\n",
       "  <tbody>\n",
       "    <tr>\n",
       "      <th>0</th>\n",
       "      <td>Percy Faith/</td>\n",
       "      <td>Percy Faith</td>\n",
       "      <td>Theme From “A Summer Place”</td>\n",
       "      <td>Solo</td>\n",
       "      <td>1960</td>\n",
       "      <td>1</td>\n",
       "      <td>NaN</td>\n",
       "      <td>NaN</td>\n",
       "      <td>NaN</td>\n",
       "    </tr>\n",
       "    <tr>\n",
       "      <th>1</th>\n",
       "      <td>Jim Reeves/</td>\n",
       "      <td>Jim Reeves</td>\n",
       "      <td>He’ll Have To Go</td>\n",
       "      <td>Solo</td>\n",
       "      <td>1960</td>\n",
       "      <td>2</td>\n",
       "      <td>NaN</td>\n",
       "      <td>NaN</td>\n",
       "      <td>NaN</td>\n",
       "    </tr>\n",
       "    <tr>\n",
       "      <th>2</th>\n",
       "      <td>Everly Brothers/</td>\n",
       "      <td>Everly Brothers</td>\n",
       "      <td>Cathy’s Clown</td>\n",
       "      <td>Group</td>\n",
       "      <td>1960</td>\n",
       "      <td>3</td>\n",
       "      <td>NaN</td>\n",
       "      <td>NaN</td>\n",
       "      <td>NaN</td>\n",
       "    </tr>\n",
       "    <tr>\n",
       "      <th>3</th>\n",
       "      <td>Johnny Preston/</td>\n",
       "      <td>Johnny Preston</td>\n",
       "      <td>Running Bear</td>\n",
       "      <td>Solo</td>\n",
       "      <td>1960</td>\n",
       "      <td>4</td>\n",
       "      <td>NaN</td>\n",
       "      <td>NaN</td>\n",
       "      <td>NaN</td>\n",
       "    </tr>\n",
       "    <tr>\n",
       "      <th>4</th>\n",
       "      <td>Mark Dinning/</td>\n",
       "      <td>Mark Dinning</td>\n",
       "      <td>Teen Angel</td>\n",
       "      <td>Solo</td>\n",
       "      <td>1960</td>\n",
       "      <td>5</td>\n",
       "      <td>NaN</td>\n",
       "      <td>NaN</td>\n",
       "      <td>NaN</td>\n",
       "    </tr>\n",
       "  </tbody>\n",
       "</table>\n",
       "</div>"
      ],
      "text/plain": [
       "            Artist/           Artist                   Song Title  \\\n",
       "0      Percy Faith/      Percy Faith  Theme From “A Summer Place”   \n",
       "1       Jim Reeves/       Jim Reeves             He’ll Have To Go   \n",
       "2  Everly Brothers/  Everly Brothers                Cathy’s Clown   \n",
       "3   Johnny Preston/   Johnny Preston                 Running Bear   \n",
       "4     Mark Dinning/     Mark Dinning                   Teen Angel   \n",
       "\n",
       "  Group / Solo Artists  Year  Ranking  Hits by Artist Since 1960  \\\n",
       "0                 Solo  1960        1                        NaN   \n",
       "1                 Solo  1960        2                        NaN   \n",
       "2                Group  1960        3                        NaN   \n",
       "3                 Solo  1960        4                        NaN   \n",
       "4                 Solo  1960        5                        NaN   \n",
       "\n",
       "   One Hit Wonder?  Uniqueness/Variety of Lyrics  \n",
       "0              NaN                           NaN  \n",
       "1              NaN                           NaN  \n",
       "2              NaN                           NaN  \n",
       "3              NaN                           NaN  \n",
       "4              NaN                           NaN  "
      ]
     },
     "execution_count": 100,
     "metadata": {},
     "output_type": "execute_result"
    }
   ],
   "source": [
    "csv_path =  \"Top10hits_Combined.csv\"\n",
    "Top_Hits_df = pd.read_csv(csv_path, sep= '\\t', encoding='utf-8')\n",
    "\n",
    "Top_Hits_df.head()"
   ]
  },
  {
   "cell_type": "code",
   "execution_count": 101,
   "metadata": {},
   "outputs": [
    {
     "name": "stdout",
     "output_type": "stream",
     "text": [
      "{'Percy Faith/': 'Theme From “A Summer Place”', 'Jim Reeves/': 'He’ll Have To Go', 'Everly Brothers/': 'Cathy’s Clown', 'Johnny Preston/': 'Running Bear', 'Mark Dinning/': 'Teen Angel', 'Brenda Lee/': 'I’m Sorry', 'Elvis Presley/': 'Crying In The Chapel', 'Jimmy Jones/': 'Handy Man', 'Chubby Checker/': 'The Twist', 'Bobby Lewis/': 'Tossin’ And Turnin’', 'Patsy Cline/': 'I Fall To Pieces', 'Highwaymen/': 'Michael', 'Roy Orbison/': 'Oh, Pretty Woman', 'Del Shannon/': 'Runaway', 'Jive Five/': 'My True Story', 'String-a-longs/': 'Wheels', 'Dee Clark/': 'Raindrops', 'Joe Dowell/': 'Wooden Heart (Muss I Denn)', 'Mr. Acker Bilk/': 'Stranger On The Shore', 'Ray Charles/': 'I Can’t Stop Loving You', 'Dee Dee Sharp/': 'Mashed Potato Time', 'Bobby Vinton/': 'Blue Velvet', 'David Rose/': 'The Stripper', 'Shelley Fabares/': 'Johnny Angel', 'Little Eva/': 'The Loco-Motion', 'Sensations/': 'Let Me In', 'Shirelles/': 'Soldier Boy', 'Jimmy Gilmer and The Fireballs/': 'Sugar Shack', 'Beach Boys/': 'I Get Around', 'Skeeter Davis/': 'The End Of The World', 'Cascades/': 'Rhythm Of The Rain', 'Chiffons/': 'He’s So Fine', 'Paul and Paula/': 'Hey Paula', 'Little Stevie Wonder/': 'Fingertips II', 'Village Stompers/': 'Washington Square', 'Impressions/': 'It’s All Right', 'Beatles/': 'Let It Be', 'Louis Armstrong/': 'Hello, Dolly!', 'Dean Martin/': 'Everybody Loves Somebody', 'Mary Wells/': 'My Guy', 'Gale Garnett/': 'We’ll Sing In The Sunshine', 'J. Frank Wilson and The Cavaliers/': 'Last Kiss', 'Supremes/': 'You Can’t Hurry Love', 'Sam The Sham and The Pharaohs/': 'Wooly Bully', 'Four Tops/': 'Reach Out I’ll Be There', 'Rolling Stones/': 'Honky Tonk Women', 'We Five/': 'You Were On My Mind', 'Righteous Brothers/': '(You’re My) Soul And Inspiration', 'Petula Clark/': 'Downtown', 'Herman’s Hermits/': 'Can’t You Hear My Heartbeat', 'Temptations/': 'Just My Imagination (Running Away With Me)', 'Sgt. Barry Sadler/': 'The Ballad Of The Green Berets', 'Association/': 'Windy', '? and The Mysterians/': '96 Tears', 'Monkees/': 'I’m A Believer', 'Mama’s and The Papa’s/': 'California Dreamin’', 'Johnny Rivers/': 'Poor Side Of Town', 'Lulu/': 'To Sir With Love', 'Box Tops/': 'The Letter', 'Bobby Gentry/': 'Ode To Billie Joe', 'Doors/': 'Light My Fire', 'Nancy Sinatra and Frank Sinatra/': 'Somethin’ Stupid', 'Turtles/': 'Happy Together', 'Young Rascals/': 'Groovin’', 'Frankie Valli/': 'My Eyes Adored You', 'Paul Mauriat/': 'Love Is Blue', 'Bobby Goldsboro/': 'Honey', 'Otis Redding/': '(Sittin’ On) The Dock Of The Bay', 'Rascals/': 'People Got To Be Free', 'Cream/': 'Sunshine Of Your Love', 'Herb Alpert/': 'This Guy’s In Love With You', 'Hugo Montenegro/': 'The Good, The Bad And The Ugly', 'Simon and Garfunkel/': 'Bridge Over Troubled Water', 'Archie Bell and The Drells/': 'Tighten Up', 'Archies/': 'Sugar, Sugar', 'Fifth Dimension/': 'Aquarius / Let The Sunshine In', 'Sly and The Family Stone/': 'Hot Fun In The Summertime', 'Tommy Roe/': 'Dizzy', 'Tom Jones/': 'I’ll Never Fall In Love Again', 'Foundations/': 'Build Me Up Buttercup', 'Tommy James and The Shondells/': 'Crimson And Clover', 'Carpenters/': '(They Long To Be) Close To You', 'Guess Who/': 'American Woman / No Sugar Tonight', 'B.J. Thomas/': 'Raindrops Keep Fallin’ On My Head', 'Edwin Starr/': 'War', 'Diana Ross/': 'Touch Me In The Morning', 'Jackson 5/': 'Dancing Machine', 'Rare Earth/': 'Get Ready', 'Freda Payne/': 'Band Of Gold', 'Three Dog Night/': 'Joy To The World', 'Rod Stewart/': 'Da Ya Think I’m Sexy', 'Carole King/': 'It’s Too Late / I Feel The Earth Move', 'Osmonds/': 'One Bad Apple', 'Bee Gees/': 'How Deep Is Your Love', 'Raiders/': 'Indian Reservation', 'Donny Osmond/': 'Go Away Little Girl', 'John Denver/': 'Thank God I’m A Country Boy', 'Dawn/': 'Knock Three Times', 'Roberta Flack/': 'Killing Me Softly With His Song', 'Gilbert O’Sullivan/': 'Alone Again (Naturally)', 'Don McLean/': 'American Pie', 'Nilsson/': 'Without You', 'Sammy Davis Jr./': 'Candy Man', 'Joe Tex/': 'I Gotcha', 'Bill Withers/': 'Lean On Me', 'Mac Davis/': 'One Hell Of A Woman', 'Melanie/': 'Brand New Key', 'Wayne Newton/': 'Daddy Dont You Walk So Fast', 'Tony Orlando and Dawn/': 'Tie A Yellow Ribbon ‘Round The Ole Oak Tree', 'Jim Croce/': 'Bad Bad Leroy Brown', 'Marvin Gaye/': 'Let’s Get It On', 'Paul McCartney and Wings/': 'My Love', 'Kris Kristofferson/': 'Why Me', 'Elton John/': 'Philadelphia Freedom', 'Billy Preston/': 'Will It Go Round In Circles', 'Carly Simon/': 'You’re So Vain', 'Barbra Streisand/': 'Love Theme From “A Star Is Born”', 'Terry Jacks/': 'Seasons In The Sun', 'Love Unlimited Orchestra/': 'Love’s Theme', 'Redbone/': 'Come And Get Your Love', 'Grand Funk Railroad/': 'The Loco-Motion', 'MFSB/': 'TSOP', 'Ray Stevens/': 'The Streak', 'Captain and Tennille/': 'Love Will Keep Us Together', 'Glen Campbell/': 'Rhinestone Cowboy', 'Freddy Fender/': 'Before The Next Teardrop Falls', 'Earth, Wind and Fire/': 'Shining Star', 'David Bowie/': 'Fame', 'Neil Sedaka/': 'Laughter In The Rain', 'Eagles/': 'One Of These Nights', 'Wings/': 'Silly Love Songs', 'Elton John and Kiki Dee/': 'Don’t Go Breaking My Heart', 'Johnnie Taylor/': 'Disco Lady', 'Four Seasons/': 'December, 1963 (Oh, What A Night)', 'Wild Cherry/': 'Play That Funky Music', 'Manhattans/': 'Kiss And Say Goodbye', 'The Miracles/': 'Love Machine (Part 1)', 'Paul Simon/': '50 Ways To Leave Your Lover', 'Gary Wright/': 'Love Is Alive', 'Walter Murphy and The Big Apple Band/': 'A Fifth Of Beethoven', 'Andy Gibb/': '(Love Is) Thicker Than Water', 'Emotions/': 'Best Of My Love', 'Hot/': 'Angel In Your Arms', 'Kenny Nolan/': 'I Like Dreamin’', 'Thelma Houston/': 'Don’t Leave Me This Way', 'Rita Coolidge/': '(Your Love Has Lifted Me) Higher And Higher', 'Alan O’Day/': 'Undercover Angel', 'Mary MacGregor/': 'Torn Between Two Lovers', 'Debby Boone/': 'You Light Up My Life', 'Exile/': 'Kiss You All Over', 'Player/': 'Baby Come Back', 'A Taste Of Honey/': 'Boogie Oogie Oogie', 'Commodores/': 'Three Times A Lady', 'Knack/': 'My Sharona', 'Donna Summer/': 'Hot Stuff', 'Chic/': 'Le Freak', 'Peaches and Herb/': 'Reunited', 'Gloria Gaynor/': 'I Will Survive', 'Village People/': 'Y.M.C.A.', 'Anita Ward/': 'Ring My Bell', 'Robert John/': 'Sad Eyes'}\n"
     ]
    },
    {
     "ename": "NameError",
     "evalue": "name 'S' is not defined",
     "output_type": "error",
     "traceback": [
      "\u001b[0;31m---------------------------------------------------------------------------\u001b[0m",
      "\u001b[0;31mNameError\u001b[0m                                 Traceback (most recent call last)",
      "\u001b[0;32m<ipython-input-101-11f4569e4bc6>\u001b[0m in \u001b[0;36m<module>\u001b[0;34m()\u001b[0m\n\u001b[1;32m     18\u001b[0m \u001b[0;31m# #print(Artist_List)\u001b[0m\u001b[0;34m\u001b[0m\u001b[0;34m\u001b[0m\u001b[0m\n\u001b[1;32m     19\u001b[0m \u001b[0;31m# print(Song_List)\u001b[0m\u001b[0;34m\u001b[0m\u001b[0;34m\u001b[0m\u001b[0m\n\u001b[0;32m---> 20\u001b[0;31m \u001b[0mS\u001b[0m\u001b[0;34m\u001b[0m\u001b[0m\n\u001b[0m\u001b[1;32m     21\u001b[0m \u001b[0;34m\u001b[0m\u001b[0m\n\u001b[1;32m     22\u001b[0m \u001b[0;31m# print(Query_url)\u001b[0m\u001b[0;34m\u001b[0m\u001b[0;34m\u001b[0m\u001b[0m\n",
      "\u001b[0;31mNameError\u001b[0m: name 'S' is not defined"
     ]
    }
   ],
   "source": [
    "# Starting URL for ApiSeeds API Call\"\n",
    "Base_url = \"https://orion.apiseeds.com/api/music/lyric/\"\n",
    "\n",
    "#Artists = [\"Bee%20Gees\", \"Jim%20Reeves\"]\n",
    "\n",
    "#Song_Title = [\"Night%20Fever\", \"He'll%20Have%20To%20Go\"]\n",
    "\n",
    "api_key = api_key\n",
    "\n",
    "#Query_url = Base_url + Artists + \"/\" + Song_Title + \"?apikey=\" + api_key\n",
    "\n",
    "Artist_List = Top_Hits_df[\"Artist/\"].tolist()\n",
    "Song_List = Top_Hits_df[\"Song Title\"].tolist()\n",
    "\n",
    "Artist_Title = dict(zip(Artist_List, Song_List))\n",
    "\n",
    "print(Artist_Title)\n",
    "# #print(Artist_List)\n",
    "# print(Song_List)\n",
    "S\n",
    "\n",
    "# print(Query_url)"
   ]
  },
  {
   "cell_type": "code",
   "execution_count": null,
   "metadata": {},
   "outputs": [],
   "source": [
    "# PLAYER_NAME = ['brad-brach','oliver-drake',...]\n",
    "# PLAYER_ID = ['31000','31615',...]\n",
    "# URL_PATTERN = 'http://espn.go.com/mlb/player/_/id/{}/{}'\n",
    "# for p_name, p_id in zip(PLAYER_NAME, PLAYER_ID):\n",
    "#     url = URL_PATTERN.format(p_id, p_name)"
   ]
  },
  {
   "cell_type": "code",
   "execution_count": 103,
   "metadata": {
    "scrolled": false
   },
   "outputs": [
    {
     "ename": "IndentationError",
     "evalue": "unexpected indent (<ipython-input-103-7ed40729d3d7>, line 14)",
     "output_type": "error",
     "traceback": [
      "\u001b[0;36m  File \u001b[0;32m\"<ipython-input-103-7ed40729d3d7>\"\u001b[0;36m, line \u001b[0;32m14\u001b[0m\n\u001b[0;31m    print(Qurl)\u001b[0m\n\u001b[0m    ^\u001b[0m\n\u001b[0;31mIndentationError\u001b[0m\u001b[0;31m:\u001b[0m unexpected indent\n"
     ]
    }
   ],
   "source": [
    "Results = []\n",
    "Lyrics = []\n",
    "Artist_Name = []\n",
    "Track_Name = []\n",
    " \n",
    "\n",
    "for Artist, Song_Title in zip([Artist_List],[Song_List]):\n",
    "                    \n",
    "#for x,y in zip([1,2,3],[1,2,3]):\n",
    "    #print(x,y)\n",
    "   \n",
    "    #print(f\"Retrieving record for {Artist, Song_Title}:\") \n",
    "    Qurl = Base_url + {Artist} + {Song_Title} + \"?apikey=\" + api_key\n",
    "    print(Qurl)\n",
    "    \n",
    "    #response = requests.get(Base_url + Artist + \"/\" Song_Title + \"?apikey=\" + api_key).json()\n",
    "#     Dump = response.get(\"result\")\n",
    "#     if response.get(\"result\"):\n",
    "#         Results.append(response)\n",
    "#         Lyrics.append(response['result']['track']['text'])\n",
    "#         Artist_Name.append(response['result']['artist']['name'])\n",
    "#         Track_Name.append(response['result']['track']['name'])\n",
    "# #         #print(json.dumps(response_json, indent=4, sort_keys=True))\n",
    "\n",
    "        #print(f\"{Lyrics}\")\n",
    "\n",
    "# url = \"https://orion.apiseeds.com/api/music/lyric/Ames Brothers/Rag Mop?apikey=TcHDIdUy4ssboxYQKYls7aAvTeRKZfMb5K0cpESsNDh9iizoatUF3B4pbNaul5vl\"\n",
    "# response = requests.get(url)\n",
    "#     response_json = response.json()\n",
    "\n",
    "#     Results.append(response_json)\n",
    "#     Lyrics.append(response_json['result']['track'][\"text\"])\n",
    "#     Artist_Name.append(response_json)['result']['artist']['name']\n",
    "#     Track_Name.append(response_json)['result']['track']['name']\n",
    "#     print(json.dumps(response_json, indent=4, sort_keys=True))\n",
    "\n"
   ]
  },
  {
   "cell_type": "code",
   "execution_count": null,
   "metadata": {
    "scrolled": false
   },
   "outputs": [],
   "source": []
  },
  {
   "cell_type": "code",
   "execution_count": null,
   "metadata": {},
   "outputs": [],
   "source": []
  }
 ],
 "metadata": {
  "kernelspec": {
   "display_name": "Python 3",
   "language": "python",
   "name": "python3"
  },
  "language_info": {
   "codemirror_mode": {
    "name": "ipython",
    "version": 3
   },
   "file_extension": ".py",
   "mimetype": "text/x-python",
   "name": "python",
   "nbconvert_exporter": "python",
   "pygments_lexer": "ipython3",
   "version": "3.6.4"
  }
 },
 "nbformat": 4,
 "nbformat_minor": 2
}
