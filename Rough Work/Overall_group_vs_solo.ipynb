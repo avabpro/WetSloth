{
 "cells": [
  {
   "cell_type": "code",
   "execution_count": 1,
   "metadata": {},
   "outputs": [
    {
     "data": {
      "text/html": [
       "<div>\n",
       "<style scoped>\n",
       "    .dataframe tbody tr th:only-of-type {\n",
       "        vertical-align: middle;\n",
       "    }\n",
       "\n",
       "    .dataframe tbody tr th {\n",
       "        vertical-align: top;\n",
       "    }\n",
       "\n",
       "    .dataframe thead th {\n",
       "        text-align: right;\n",
       "    }\n",
       "</style>\n",
       "<table border=\"1\" class=\"dataframe\">\n",
       "  <thead>\n",
       "    <tr style=\"text-align: right;\">\n",
       "      <th></th>\n",
       "      <th>Ranking</th>\n",
       "      <th>Artist</th>\n",
       "      <th>Song Title</th>\n",
       "      <th>Year</th>\n",
       "      <th>Group / Solos</th>\n",
       "    </tr>\n",
       "  </thead>\n",
       "  <tbody>\n",
       "    <tr>\n",
       "      <th>0</th>\n",
       "      <td>1</td>\n",
       "      <td>Percy Faith</td>\n",
       "      <td>Theme From A Summer Place</td>\n",
       "      <td>1960</td>\n",
       "      <td>Solo</td>\n",
       "    </tr>\n",
       "    <tr>\n",
       "      <th>1</th>\n",
       "      <td>2</td>\n",
       "      <td>Jim Reeves</td>\n",
       "      <td>Hell Have To Go</td>\n",
       "      <td>1960</td>\n",
       "      <td>Solo</td>\n",
       "    </tr>\n",
       "    <tr>\n",
       "      <th>2</th>\n",
       "      <td>3</td>\n",
       "      <td>Everly Brothers</td>\n",
       "      <td>Cathys Clown</td>\n",
       "      <td>1960</td>\n",
       "      <td>Group</td>\n",
       "    </tr>\n",
       "    <tr>\n",
       "      <th>3</th>\n",
       "      <td>4</td>\n",
       "      <td>Johnny Preston</td>\n",
       "      <td>Running Bear</td>\n",
       "      <td>1960</td>\n",
       "      <td>Solo</td>\n",
       "    </tr>\n",
       "    <tr>\n",
       "      <th>4</th>\n",
       "      <td>5</td>\n",
       "      <td>Mark Dinning</td>\n",
       "      <td>Teen Angel</td>\n",
       "      <td>1960</td>\n",
       "      <td>Solo</td>\n",
       "    </tr>\n",
       "  </tbody>\n",
       "</table>\n",
       "</div>"
      ],
      "text/plain": [
       "   Ranking           Artist                   Song Title  Year Group / Solos\n",
       "0        1      Percy Faith  Theme From A Summer Place  1960          Solo\n",
       "1        2       Jim Reeves             Hell Have To Go  1960          Solo\n",
       "2        3  Everly Brothers                Cathys Clown  1960         Group\n",
       "3        4   Johnny Preston                 Running Bear  1960          Solo\n",
       "4        5     Mark Dinning                   Teen Angel  1960          Solo"
      ]
     },
     "execution_count": 1,
     "metadata": {},
     "output_type": "execute_result"
    }
   ],
   "source": [
    "#importing dependencies\n",
    "import pandas as pd\n",
    "import numpy as np\n",
    "import sys\n",
    "import matplotlib.pyplot as plt\n",
    "\n",
    "# Reading CSV file.\n",
    "file_path =\"C:/Users/saife/Desktop/abc.csv\"\n",
    "newfile=pd.read_csv(file_path, encoding='unicode_escape')\n",
    "newfile.head()"
   ]
  },
  {
   "cell_type": "code",
   "execution_count": 2,
   "metadata": {},
   "outputs": [
    {
     "data": {
      "text/plain": [
       "Solo     338\n",
       "Group    242\n",
       "Name: Group / Solos, dtype: int64"
      ]
     },
     "execution_count": 2,
     "metadata": {},
     "output_type": "execute_result"
    }
   ],
   "source": [
    "# Count Summary to give the total Solo hits and total Group hits (1960 -2017).\n",
    "count_summary=newfile[\"Group / Solos\"].value_counts()\n",
    "count_summary"
   ]
  },
  {
   "cell_type": "code",
   "execution_count": 3,
   "metadata": {},
   "outputs": [
    {
     "name": "stdout",
     "output_type": "stream",
     "text": [
      "Solo Count :338\n",
      "Group Count:242\n",
      "Total Count :580\n",
      "58.27586206896552\n",
      "41.724137931034484\n"
     ]
    },
    {
     "data": {
      "text/plain": [
       "<function matplotlib.pyplot.show>"
      ]
     },
     "execution_count": 3,
     "metadata": {},
     "output_type": "execute_result"
    },
    {
     "data": {
      "image/png": "[encoded data removed]",
      "text/plain": [
       "<matplotlib.figure.Figure at 0x20625b4c6d8>"
      ]
     },
     "metadata": {},
     "output_type": "display_data"
    }
   ],
   "source": [
    "# creating seperate variables to get the count and %.\n",
    "newfile[\"Group / Solos\"].nunique()\n",
    "solo= newfile.loc[newfile[\"Group / Solos\"]==\"Solo\"]\n",
    "solo_tcount=len(solo)\n",
    "print(\"Solo Count :\" + str(solo_tcount))\n",
    "group= newfile.loc[newfile[\"Group / Solos\"]==\"Group\"]\n",
    "group_tcount=len(group)\n",
    "print(\"Group Count:\" + str(group_tcount))\n",
    "total_count =solo_tcount + group_tcount\n",
    "print(\"Total Count :\" + str(total_count))\n",
    "per_solo = solo_tcount/total_count * 100\n",
    "print(per_solo)\n",
    "per_group=group_tcount/total_count * 100\n",
    "print(per_group)\n",
    "new = pd.DataFrame\n",
    "\n",
    "# creating a pie chart, usinf the variables created earlier.\n",
    "labels = [\"Solo\", \"Group\"]\n",
    "sizes = [per_solo, per_group]\n",
    "colors =[\"lightcoral\", \"lightskyblue\"]\n",
    "explode = [0.1,0]\n",
    "plt.pie(sizes, explode=explode, labels=labels, colors= colors, autopct=\"%1.1f%%\", shadow= True, startangle =120)\n",
    "plt.title(\"Hit % Solo v/s Group\")\n",
    "plt.show\n",
    "\n"
   ]
  },
  {
   "cell_type": "code",
   "execution_count": 4,
   "metadata": {},
   "outputs": [],
   "source": [
    "# Further analysis of data to show decadewise trend.\n",
    "bins = [1959, 1969, 1979, 1989, 1999, 2009, 2018]\n",
    "group_names = [1960, 1970, 1980, 1990, 2000,2010]"
   ]
  },
  {
   "cell_type": "code",
   "execution_count": 5,
   "metadata": {},
   "outputs": [
    {
     "data": {
      "text/html": [
       "<div>\n",
       "<style scoped>\n",
       "    .dataframe tbody tr th:only-of-type {\n",
       "        vertical-align: middle;\n",
       "    }\n",
       "\n",
       "    .dataframe tbody tr th {\n",
       "        vertical-align: top;\n",
       "    }\n",
       "\n",
       "    .dataframe thead th {\n",
       "        text-align: right;\n",
       "    }\n",
       "</style>\n",
       "<table border=\"1\" class=\"dataframe\">\n",
       "  <thead>\n",
       "    <tr style=\"text-align: right;\">\n",
       "      <th></th>\n",
       "      <th>Ranking</th>\n",
       "      <th>Artist</th>\n",
       "      <th>Song Title</th>\n",
       "      <th>Year</th>\n",
       "      <th>Group / Solos</th>\n",
       "    </tr>\n",
       "  </thead>\n",
       "  <tbody>\n",
       "    <tr>\n",
       "      <th>0</th>\n",
       "      <td>1</td>\n",
       "      <td>Percy Faith</td>\n",
       "      <td>Theme From A Summer Place</td>\n",
       "      <td>1960</td>\n",
       "      <td>Solo</td>\n",
       "    </tr>\n",
       "    <tr>\n",
       "      <th>1</th>\n",
       "      <td>2</td>\n",
       "      <td>Jim Reeves</td>\n",
       "      <td>Hell Have To Go</td>\n",
       "      <td>1960</td>\n",
       "      <td>Solo</td>\n",
       "    </tr>\n",
       "    <tr>\n",
       "      <th>2</th>\n",
       "      <td>3</td>\n",
       "      <td>Everly Brothers</td>\n",
       "      <td>Cathys Clown</td>\n",
       "      <td>1960</td>\n",
       "      <td>Group</td>\n",
       "    </tr>\n",
       "    <tr>\n",
       "      <th>3</th>\n",
       "      <td>4</td>\n",
       "      <td>Johnny Preston</td>\n",
       "      <td>Running Bear</td>\n",
       "      <td>1960</td>\n",
       "      <td>Solo</td>\n",
       "    </tr>\n",
       "    <tr>\n",
       "      <th>4</th>\n",
       "      <td>5</td>\n",
       "      <td>Mark Dinning</td>\n",
       "      <td>Teen Angel</td>\n",
       "      <td>1960</td>\n",
       "      <td>Solo</td>\n",
       "    </tr>\n",
       "  </tbody>\n",
       "</table>\n",
       "</div>"
      ],
      "text/plain": [
       "   Ranking           Artist                   Song Title  Year Group / Solos\n",
       "0        1      Percy Faith  Theme From A Summer Place  1960          Solo\n",
       "1        2       Jim Reeves             Hell Have To Go  1960          Solo\n",
       "2        3  Everly Brothers                Cathys Clown  1960         Group\n",
       "3        4   Johnny Preston                 Running Bear  1960          Solo\n",
       "4        5     Mark Dinning                   Teen Angel  1960          Solo"
      ]
     },
     "execution_count": 5,
     "metadata": {},
     "output_type": "execute_result"
    }
   ],
   "source": [
    "# Performing some functions to know data better.\n",
    "newfile.dtypes\n",
    "newfile[\"Year\"] = pd.to_numeric(newfile[\"Year\"])\n",
    "newfile.head()\n"
   ]
  },
  {
   "cell_type": "code",
   "execution_count": 6,
   "metadata": {},
   "outputs": [
    {
     "data": {
      "text/plain": [
       "580"
      ]
     },
     "execution_count": 6,
     "metadata": {},
     "output_type": "execute_result"
    }
   ],
   "source": [
    "newfile[\"year_view\"] = pd.cut(newfile[\"Year\"], bins, labels=group_names)\n",
    "newfile[\"year_view\"].count()\n",
    "\n",
    "# newfile.dtypes\n",
    "# newfile[\"year_view\"]= pd.to_numeric(newfile[\"year_view\"])\n",
    "# newfile.dtypes\n"
   ]
  },
  {
   "cell_type": "code",
   "execution_count": 7,
   "metadata": {},
   "outputs": [],
   "source": [
    "# # Grouping data year wise and further bifurcation on Solos and Group.\n",
    "# grp_data= newfile.groupby([\"year_view\",\"Group / Solos\"])\n",
    "\n",
    "# year_list = []\n",
    "# year_list = newfile[\"year_view\"].unique()\n",
    "# print(year_list)\n",
    "\n",
    "# grp_count = [grp_data.get_group(year)[\"Group\"].size for year in year_list]\n",
    "# print(grp_count)\n",
    "# # xa=grp_data[\"year_view\"]\n",
    "# # ya=grp_data[\"Ranking\"]\n"
   ]
  },
  {
   "cell_type": "code",
   "execution_count": 33,
   "metadata": {},
   "outputs": [
    {
     "name": "stdout",
     "output_type": "stream",
     "text": [
      "[1960, 1970, 1980, 1990, 2000, 2010]\n",
      "Categories (6, object): [1960 < 1970 < 1980 < 1990 < 2000 < 2010]\n",
      "[55, 43, 49, 44, 28, 23]\n",
      "[45, 57, 51, 56, 72, 57]\n"
     ]
    },
    {
     "data": {
      "image/png": "[encoded data removed]",
      "text/plain": [
       "<matplotlib.figure.Figure at 0x2062723a940>"
      ]
     },
     "metadata": {},
     "output_type": "display_data"
    }
   ],
   "source": [
    "# Grouping data year wise and further bifurcation on Solos and Group.\n",
    "year_view_grp_data= newfile.groupby([\"year_view\"])\n",
    "\n",
    "year_list = []\n",
    "grp_count = []\n",
    "solo_count = []\n",
    "year_list = newfile[\"year_view\"].unique()\n",
    "print(year_list)\n",
    "\n",
    "#grp_count = [grp_data.get_group(year).groupby[\"Group / Solos\"].get_group(\"Solo\").size() for year in year_list]\n",
    "#print(grp_data.get_group(2000).groupby[\"Group / Solos\"].get_group(\"Solo\").size())\n",
    "# xa=grp_data[\"year_view\"]\n",
    "# ya=grp_data[\"Ranking\"]\n",
    "\n",
    "for year in year_list:\n",
    "    working_df = year_view_grp_data.get_group(year)\n",
    "    working_df = working_df.groupby(\"Group / Solos\")\n",
    "    grp_count.append(len(working_df.get_group(\"Group\")[\"Year\"]))\n",
    "    solo_count.append(len(working_df.get_group(\"Solo\")[\"Year\"]))\n",
    "    \n",
    "print(grp_count)\n",
    "print(solo_count)\n",
    "\n",
    "width = [0.25]\n",
    "\n",
    "fig1 = plt.bar(year_list, solo_count, width)\n",
    "fig2 = plt.bar(year_list,grp_count, width, bottom=solo_count)\n",
    "plt.xticks(year_list, year_list)\n",
    "plt.title(\"Group/Solo Count for the Decades\")\n",
    "plt.legend( (fig1[0], fig2[0]), ('Solo', 'Group') )\n",
    "plt.xlabel(\"Decades\")\n",
    "plt.ylabel(\"Count\")\n",
    "plt.grid(axis = 'y')\n",
    "plt.ylim(0,120)\n",
    "plt.show()\n",
    "    \n"
   ]
  }
 ],
 "metadata": {
  "kernelspec": {
   "display_name": "Python 3",
   "language": "python",
   "name": "python3"
  },
  "language_info": {
   "codemirror_mode": {
    "name": "ipython",
    "version": 3
   },
   "file_extension": ".py",
   "mimetype": "text/x-python",
   "name": "python",
   "nbconvert_exporter": "python",
   "pygments_lexer": "ipython3",
   "version": "3.6.4"
  }
 },
 "nbformat": 4,
 "nbformat_minor": 2
}
