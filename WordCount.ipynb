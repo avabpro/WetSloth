{
 "cells": [
  {
   "cell_type": "code",
   "execution_count": null,
   "metadata": {},
   "outputs": [],
   "source": [
    "from collections import Counter, OrderedDict\n",
    "\n",
    "myNames=[]\n",
    "with open(\"C:/Users/Deepti/Washu BootCamp - HW/Project 1/Pract/Song for testing.txt\", 'r') as f:\n",
    "     myNames = [line.strip() for line in f]\n",
    "     #print(myNames)\n",
    "    \n",
    "# counter = Counter(myNames)\n",
    "# #print(counter)\n",
    "# uniques = [value for value, count in counter.items() if count == 1]\n",
    "# print(uniques)\n",
    "\n",
    "\n",
    "count = {}\n",
    "for w in open(\"C:/Users/Deepti/Washu BootCamp - HW/Project 1/Pract/Song for testing.txt\").read().split():\n",
    "    if w in count:\n",
    "        count[w] += 1\n",
    "    else:\n",
    "        count[w] = 1\n",
    "for word, times in count.items():\n",
    "    print(word, times)\n",
    "\n",
    "    \n",
    "# class OrderedCounter(Counter, OrderedDict):\n",
    "#     pass\n",
    "\n",
    "# c = OrderedCounter(myNames)\n",
    "\n",
    "# print(\"There are {} unique words\".format(len(c)))\n",
    "# print('They are')\n",
    "\n",
    "# for k, v in c.items():\n",
    "#     print(k)\n",
    "#     print(v)\n",
    "   "
   ]
  }
 ],
 "metadata": {
  "kernelspec": {
   "display_name": "Python 3",
   "language": "python",
   "name": "python3"
  },
  "language_info": {
   "codemirror_mode": {
    "name": "ipython",
    "version": 3
   },
   "file_extension": ".py",
   "mimetype": "text/x-python",
   "name": "python",
   "nbconvert_exporter": "python",
   "pygments_lexer": "ipython3",
   "version": "3.6.5"
  }
 },
 "nbformat": 4,
 "nbformat_minor": 2
}
